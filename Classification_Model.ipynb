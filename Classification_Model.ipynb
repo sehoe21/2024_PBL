{
 "cells": [
  {
   "cell_type": "markdown",
   "metadata": {},
   "source": [
    "# 고장진단 머신러닝 모델\n",
    "데이터 파일 가공/머신러닝 모델 생성/성능평가 함수 포함"
   ]
  },
  {
   "cell_type": "code",
   "execution_count": null,
   "metadata": {
    "vscode": {
     "languageId": "plaintext"
    }
   },
   "outputs": [],
   "source": [
    "from google.colab import drive\n",
    "import matplotlib.pyplot as plt\n",
    "import pandas as pd\n",
    "import numpy as np\n",
    "import glob\n",
    "import math\n",
    "from sklearn.linear_model import LinearRegression\n",
    "from sklearn.neighbors import KNeighborsRegressor\n"
   ]
  },
  {
   "cell_type": "code",
   "execution_count": null,
   "metadata": {
    "vscode": {
     "languageId": "plaintext"
    }
   },
   "outputs": [],
   "source": [
    "drive.mount('/content/drive')"
   ]
  },
  {
   "cell_type": "code",
   "execution_count": null,
   "metadata": {
    "vscode": {
     "languageId": "plaintext"
    }
   },
   "outputs": [],
   "source": [
    "#체계단위 \n",
    "def Process_File(TestFile):\n",
    "    dataRaw = pd.read_csv(TestFile)\n",
    "\n",
    "    dataCol = dataRaw.columns\n",
    "    dataRaw = dataRaw.drop(['IMU_Bit'],axis = 1 )\n",
    "    dataRaw = dataRaw.reset_index()\n",
    "    dataRaw.columns = dataCol\n",
    "    dataRaw = dataRaw[dataRaw['IMU_MODE'] == 8]\n",
    "    dataRaw = dataRaw.reset_index(drop=True)\n",
    "\n",
    "    dataSet = pd.DataFrame()\n",
    "    dataSet['M'] = dataRaw['IMU_MODE']\n",
    "\n",
    "    # XW YW ZW => [rad/s] XYZ_DEL_ANG => [mili deg/s]\n",
    "    dataSet[['XW','YW','ZW']] = dataRaw[['X_DEL_ANG','Y_DEL_ANG','Z_DEL_ANG']] * 18000 / math.pi\n",
    "\n",
    "    dataSet[['R','P','Y']] = dataRaw[['ROLL','PITCH','HEADING']]\n",
    "\n",
    "    #p q r => [deg/s]\n",
    "    dataSet['p'] = np.rad2deg(-dataSet['XW'])\n",
    "    dataSet['q'] = np.rad2deg(-dataSet['ZW'])\n",
    "    dataSet['r'] = np.rad2deg(dataSet['YW'])\n",
    "\n",
    "    #100초 동안의 p q r AVG\n",
    "    p = dataSet['p'].mean()\n",
    "    q = dataSet['q'].mean()\n",
    "    r = dataSet['r'].mean()\n",
    "\n",
    "    R = dataSet['R'].values\n",
    "    P = dataSet['P'].values\n",
    "    Y = dataSet['Y'].values\n",
    "\n",
    "    #오일러 각속도\n",
    "    dataSet['Rdot'] =  p + ( q*np.sin(np.deg2rad(R)) + r*np.cos(np.deg2rad(R)) ) * np.tan(np.deg2rad(P))\n",
    "    dataSet['Pdot'] = q*np.cos(np.deg2rad(R)) - r*np.sin(np.deg2rad(R))\n",
    "    dataSet['Ydot'] = (q*np.sin(np.deg2rad(R)) + r*np.cos(np.deg2rad(R))) / np.cos(np.deg2rad(P))\n",
    "    dataSet[['Rdot','Pdot','Ydot']] = np.rad2deg(dataSet[['Rdot','Pdot','Ydot']])\n",
    "\n",
    "    return dataSet"
   ]
  },
  {
   "cell_type": "code",
   "execution_count": null,
   "metadata": {
    "vscode": {
     "languageId": "plaintext"
    }
   },
   "outputs": [],
   "source": [
    "FullData = []\n",
    "\n",
    "FullData += glob.glob(r'/content/drive/MyDrive/DataSet/8,9LOT/8LOT/*.csv')\n",
    "FullData += glob.glob(r'/content/drive/MyDrive/DataSet/8,9LOT/9LOT/*.csv')\n",
    "FullData += glob.glob(r'/content/drive/MyDrive/DataSet/10,11LOT/10LOT/*.csv')\n",
    "FullData += glob.glob(r'/content/drive/MyDrive/DataSet/10,11LOT/11LOT/*.csv')"
   ]
  },
  {
   "cell_type": "code",
   "execution_count": null,
   "metadata": {
    "vscode": {
     "languageId": "plaintext"
    }
   },
   "outputs": [],
   "source": [
    "resultALL = []\n",
    "\n",
    "for TestFile in FullData :\n",
    "    try :\n",
    "        SN = re.search(r\"(\\d{9})\", TestFile).group(1)\n",
    "\n",
    "        dataSet = Process_File(TestFile)\n",
    "\n",
    "        dataSetT = pd.DataFrame()\n",
    "        dataSetT[['R','P','Y']] = dataSet[['R','P','Y']].copy()\n",
    "\n",
    "        #100초 평균 p q r\n",
    "        p = dataSet['p'].mean()\n",
    "        q = dataSet['q'].mean()\n",
    "        r = dataSet['r'].mean()\n",
    "\n",
    "        #N초 평균 p q r\n",
    "        p5 = dataSet[0:200]['p'].mean()\n",
    "        q5 = dataSet[0:200]['q'].mean()\n",
    "        r5 = dataSet[0:200]['r'].mean()\n",
    "        p20 = dataSet[0:2000]['p'].mean()\n",
    "        q20 = dataSet[0:2000]['q'].mean()\n",
    "        r20 = dataSet[0:2000]['r'].mean()\n",
    "\n",
    "        #100초 평균 오일러 각속도\n",
    "        Rdot, Pdot, Ydot = dataSet[0:10000][['Rdot','Pdot','Ydot']].mean().values\n",
    "\n",
    "        #N초 평균 오일러 각속도\n",
    "        Rdot5, Pdot5, Ydot5 = dataSet[0:200][['Rdot','Pdot','Ydot']].mean().values\n",
    "        Rdot20, Pdot20, Ydot20 = dataSet[0:2000][['Rdot','Pdot','Ydot']].mean().values\n",
    "\n",
    "        #slope => 각도 기울기 정보\n",
    "        sl = pd.DataFrame()\n",
    "        sl[['Rdel5','Pdel5','Ydel5']] = (dataSetT[100:10000].values - dataSetT[0:9900])/1\n",
    "        sl[['Rdel','Pdel','Ydel']]  = ((dataSetT.iloc[10000] - dataSetT.iloc[0])/100).values\n",
    "\n",
    "        sl[['Rd5','Pd5','Yd5']]  = sl[0:100][['Rdel5','Pdel5','Ydel5']].mean().values #500번째 index까지만 사용 => 5초 정보\n",
    "        sl[['Rd20','Pd20','Yd20']]  = sl[0:1900][['Rdel5','Pdel5','Ydel5']].mean().values\n",
    "\n",
    "        result = [SN] + [p,p5, p20, q,q5,q20, r,r5, r20, Rdot, Pdot, Ydot, Rdot5, Pdot5, Ydot5, Rdot20, Pdot20, Ydot20] + list(sl[['Rd5','Rd20','Rdel','Pd5','Pd20','Pdel','Yd5','Yd20','Ydel']].mean())\n",
    "        resultALL.append(result)\n",
    "    except :\n",
    "        print(SN)\n",
    "        pass"
   ]
  },
  {
   "cell_type": "code",
   "execution_count": null,
   "metadata": {
    "vscode": {
     "languageId": "plaintext"
    }
   },
   "outputs": [],
   "source": [
    "col = ['SN','p','p5','p20', 'q','q5','q20', 'r','r5', 'r20', 'Rdot', 'Pdot', 'Ydot','Rdot5', 'Pdot5', 'Ydot5','Rdot20', 'Pdot20', 'Ydot20', 'Rd5','Rd20', 'Rdel','Pd5','Pd20', 'Pdel','Yd5', 'Yd20', 'Ydel']\n",
    "aly = pd.DataFrame(resultALL, columns = col)\n",
    "#aly = pd.read_csv(r'/content/drive/MyDrive/DataSet/MyData.csv')"
   ]
  },
  {
   "cell_type": "code",
   "execution_count": null,
   "metadata": {
    "vscode": {
     "languageId": "plaintext"
    }
   },
   "outputs": [],
   "source": [
    "aly.to_csv(r'/content/drive/MyDrive/DataSet/MyData.csv')"
   ]
  },
  {
   "cell_type": "code",
   "execution_count": null,
   "metadata": {
    "vscode": {
     "languageId": "plaintext"
    }
   },
   "outputs": [],
   "source": [
    "test = aly[['Rd5','Rdel','Pd5','Pdel','Yd5','Ydel']].round(5)*100\n",
    "test['SN'] = aly['SN']\n",
    "\n",
    "threshold = 3.3\n",
    "\n",
    "test['ClassR'] = 0\n",
    "test['ClassR'].iloc[abs(test['Rdel']) >= threshold] = 1\n",
    "test['ClassP'] = 0\n",
    "test['ClassP'].iloc[abs(test['Pdel']) >= threshold] = 1\n",
    "test['ClassY'] = 0\n",
    "test['ClassY'].iloc[abs(test['Ydel']) >= threshold] = 1\n",
    "\n",
    "aly['ClassY'] = 0\n",
    "aly['ClassY'].iloc[abs(aly['Ydel']*100) >= threshold] = 1\n",
    "aly['ClassR'] = 0\n",
    "aly['ClassR'].iloc[abs(aly['Rdel']*100) >= threshold] = 1\n",
    "aly['ClassP'] = 0\n",
    "aly['ClassP'].iloc[abs(aly['Pdel']*100) >= threshold] = 1"
   ]
  },
  {
   "cell_type": "code",
   "execution_count": null,
   "metadata": {
    "vscode": {
     "languageId": "plaintext"
    }
   },
   "outputs": [],
   "source": [
    "print(test['ClassR'].value_counts())\n",
    "print(test['ClassP'].value_counts())\n",
    "print(test['ClassY'].value_counts())"
   ]
  },
  {
   "cell_type": "markdown",
   "metadata": {},
   "source": [
    "# 머신러닝 모델 생성"
   ]
  },
  {
   "cell_type": "code",
   "execution_count": null,
   "metadata": {
    "vscode": {
     "languageId": "plaintext"
    }
   },
   "outputs": [],
   "source": [
    "from sklearn.preprocessing import StandardScaler\n",
    "\n",
    "X_train = np.array(aly[['p','q','r','Rdel','Pdel','Ydel', 'Rdot', 'Pdot', 'Ydot']])\n",
    "X_test = np.array(aly[['p5','q5','r5','Rd5','Pd5','Yd5','Rdot5','Pdot5','Ydot5']])\n",
    "\n",
    "ss= StandardScaler()\n",
    "ss.fit(X_train)\n",
    "X_train_scaled = ss.transform(X_train)\n",
    "X_test_scaled = ss.transform(X_test)\n",
    "\n",
    "y_train = np.array(test['Ydel'])\n",
    "y_test = np.array(test['Ydel'])"
   ]
  },
  {
   "cell_type": "code",
   "execution_count": null,
   "metadata": {
    "vscode": {
     "languageId": "plaintext"
    }
   },
   "outputs": [],
   "source": [
    "#선형회귀 모델\n",
    "modelLRR = LinearRegression()\n",
    "modelLRR.fit(X_train_scaled, y_train)\n",
    "\n",
    "test['RhatLR'] = modelLRR.predict(X_test)\n",
    "test['RerrLR'] = y_test - test['RhatLR']\n",
    "\n",
    "print(\"훈련 세트 예측 정확도: {:.3f}\".format(modelLRR.score(X_train_scaled, y_train)))\n",
    "print(\"테스트 세트 예측 정확도: {:.3f}\".format(modelLRR.score(X_test_scaled, y_test)))"
   ]
  },
  {
   "cell_type": "code",
   "execution_count": null,
   "metadata": {
    "vscode": {
     "languageId": "plaintext"
    }
   },
   "outputs": [],
   "source": [
    "#결정트리 분류 모델\n",
    "from sklearn.tree import DecisionTreeClassifier\n",
    "from sklearn.tree import plot_tree\n",
    "\n",
    "treeR = DecisionTreeClassifier(max_depth=3, random_state=0)\n",
    "treeR.fit(X_train_scaled, y_trainCL)\n",
    "\n",
    "print(\"훈련 세트 정확도: {:.3f}\".format(treeR.score(X_train_scaled, y_trainCL)))\n",
    "print(\"테스트 세트 정확도: {:.3f}\".format(treeR.score(X_test_scaled, y_testCL)))"
   ]
  },
  {
   "cell_type": "code",
   "execution_count": null,
   "metadata": {
    "vscode": {
     "languageId": "plaintext"
    }
   },
   "outputs": [],
   "source": [
    "#랜덤포레스트 모델\n",
    "from sklearn.ensemble import RandomForestRegressor\n",
    "from sklearn.model_selection import cross_val_score\n",
    "import seaborn as sns\n",
    "from sklearn.model_selection import GridSearchCV\n",
    "\n",
    "params = {'min_impurity_decrease' : np.arange(0.0001, 0.001, 0.0001),\n",
    "          'max_depth' : range(1, 3, 1),\n",
    "          'min_samples_split' : range(1,3,1)}\n",
    "\n",
    "gs = GridSearchCV(RandomForestRegressor(random_state = 42), params, n_jobs = -1)\n",
    "\n",
    "gs.fit(X_train_scaled, y_train)\n",
    "\n",
    "rf = gs.best_estimator_\n",
    "\n",
    "print(\"훈련 세트 정확도: {:.3f}\".format(rf.score(X_train_scaled, y_train)))\n",
    "print(\"테스트 세트 정확도: {:.3f}\".format(rf.score(X_test_scaled, y_test)))"
   ]
  },
  {
   "cell_type": "code",
   "execution_count": null,
   "metadata": {
    "vscode": {
     "languageId": "plaintext"
    }
   },
   "outputs": [],
   "source": [
    "#다중회귀 모델\n",
    "\n",
    "from sklearn.preprocessing import PolynomialFeatures\n",
    "from sklearn.preprocessing import StandardScaler\n",
    "\n",
    "poly = PolynomialFeatures(degree=2, include_bias=False)\n",
    "\n",
    "X_train = np.array(aly[['p','q','r','Rdel','Pdel','Ydel', 'Rdot', 'Pdot', 'Ydot']])\n",
    "X_test = np.array(aly[['p5','q5','r5','Rd5','Pd5','Yd5','Rdot5','Pdot5','Ydot5']])\n",
    "\n",
    "X_train = poly.fit_transform(X_train)\n",
    "X_test = poly.fit_transform(X_test)\n",
    "\n",
    "ss= StandardScaler()\n",
    "ss.fit(X_train)\n",
    "X_train_scaled = ss.transform(X_train)\n",
    "X_test_scaled = ss.transform(X_test)\n",
    "\n",
    "y_train = np.array(test['Ydel'])\n",
    "y_test = np.array(test['Ydel'])\n",
    "\n",
    "lr = LinearRegression()\n",
    "lr.fit(X_train_scaled, y_train)"
   ]
  },
  {
   "cell_type": "code",
   "execution_count": null,
   "metadata": {
    "vscode": {
     "languageId": "plaintext"
    }
   },
   "outputs": [],
   "source": [
    "#성능평가 함수\n",
    "index = []\n",
    "R = 3.3\n",
    "test_size = len(y_test)\n",
    "\n",
    "def R_ModelScore(Model):\n",
    "    TP, TN, FP, FN, RMSE = 0, 0, 0, 0, 0\n",
    "    for i in range(test_size):\n",
    "        RMSE += np.sqrt((y_test[i] - Model.predict(X_test_scaled)[i])**2)\n",
    "        if (abs(y_test[i]) >=  R) & (abs(Model.predict(X_test_scaled)[i]) >= R):\n",
    "            TP += 1\n",
    "        elif(abs(y_test[i]) < R) & (abs(Model.predict(X_test_scaled)[i]) < R):\n",
    "            TN += 1\n",
    "        elif(abs(y_test[i]) < R) & (abs(Model.predict(X_test_scaled)[i]) >= R):\n",
    "            FP += 1\n",
    "        elif(abs(y_test[i]) >= R) & (abs(Model.predict(X_test_scaled)[i]) < R):\n",
    "            FN += 1\n",
    "\n",
    "\n",
    "    Precision = TP/(TP+FP) if (TP+FP) > 0 else 0\n",
    "    Recall = TP/(TP+FN) if (TP +FN) > 0 else 0\n",
    "    Accuracy = (TP+TN)/(TP+TN+FP+FN) if (TP + TN + FP + FN) > 0 else 0\n",
    "    F1 = 2*Precision*Recall/(Precision+Recall) if (Precision + Recall) > 0 else 0\n",
    "    RMSE = RMSE/test_size\n",
    "\n",
    "    print(f\"TP: {TP}\\nTN: {TN}\\nFP: {FP}\\nFN: {FN}\")\n",
    "    print(f\"Precision: {Precision}, Recall: {Recall}\")\n",
    "    print(f\"Accuracy: {Accuracy}, F1: {F1}\")\n",
    "    print(f\"RMSE: {RMSE}\")\n",
    "\n",
    "def C_ModelScore(Model):\n",
    "    TP, TN, FP, FN, RMSE = 0, 0, 0, 0, 0\n",
    "    for i in range(test_size):\n",
    "        RMSE += np.sqrt((y_test[i] - Model.predict(X_test_scaled)[i])**2)\n",
    "        if(y_testCL[i] == 1) & (Model.predict(X_test_scaled)[i] == 1):\n",
    "            TP += 1\n",
    "        elif(y_testCL[i] == 0) & (Model.predict(X_test_scaled)[i] == 0):\n",
    "            TN += 1\n",
    "        elif(y_testCL[i] == 0) & (Model.predict(X_test_scaled)[i] == 1):\n",
    "            FP += 1\n",
    "        elif(y_testCL[i] == 1) & (Model.predict(X_test_scaled)[i] == 0):\n",
    "            FN += 1\n",
    "\n",
    "    Precision = TP/(TP+FP) if (TP+FP) > 0 else 0\n",
    "    Recall = TP/(TP+FN) if (TP +FN) > 0 else 0\n",
    "    Accuracy = (TP+TN)/(TP+TN+FP+FN) if (TP + TN + FP + FN) > 0 else 0\n",
    "    F1 = 2*Precision*Recall/(Precision+Recall) if (Precision + Recall) > 0 else 0\n",
    "    RMSE = RMSE/test_size\n",
    "\n",
    "    print(f\"TP: {TP}\\nTN: {TN}\\nFP: {FP}\\nFN: {FN}\")\n",
    "    print(f\"Precision: {Precision}, Recall: {Recall}\")\n",
    "    print(f\"Accuracy: {Accuracy}, F1: {F1}\")\n",
    "    print(f\"RMSE: {RMSE}\")"
   ]
  },
  {
   "cell_type": "code",
   "execution_count": null,
   "metadata": {
    "vscode": {
     "languageId": "plaintext"
    }
   },
   "outputs": [],
   "source": []
  }
 ],
 "metadata": {
  "language_info": {
   "name": "python"
  }
 },
 "nbformat": 4,
 "nbformat_minor": 2
}
